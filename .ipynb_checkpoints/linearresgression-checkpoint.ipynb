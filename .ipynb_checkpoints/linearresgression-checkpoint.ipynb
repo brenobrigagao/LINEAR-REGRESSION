{
 "cells": [
  {
   "cell_type": "code",
   "execution_count": 9,
   "id": "3a56c3c2-de07-4ec6-9e5e-0f065dcffc55",
   "metadata": {},
   "outputs": [],
   "source": [
    "from numpy import *\n",
    "class LinearRegression:\n",
    "        def __init__(self,x,y):\n",
    "            self.x = x\n",
    "            self.y = y\n",
    "            self.__correlacao_coeficiente = self.__correlation()\n",
    "            self.__inclinacao = self.__inclination()\n",
    "            self.__interceptacao = self.__intercept()\n",
    "\n",
    "        def __correlation(self):\n",
    "            covariacao = cov(self.x,self.y,bias=True)[0][1]\n",
    "            variancia_x = var(self.x)\n",
    "            variancia_y = var(self.y)\n",
    "            return covariacao / sqrt(variancia_x*variancia_y)\n",
    "\n",
    "        def __inclination(self):\n",
    "            desvio_x = std(self.x)\n",
    "            desvio_y = std(self.y)\n",
    "            return self.__correlacao_coeficiente * (desvio_y/desvio_x)\n",
    "\n",
    "        def __intercept(self):\n",
    "            media_x = mean(self.x)\n",
    "            media_y = mean(self.y)\n",
    "            return media_y - media_x * self.__inclinacao\n",
    "\n",
    "        def previsao(self,valor):\n",
    "            return self.__interceptacao + (self.__inclinacao * valor)\n",
    "\n",
    "        \n",
    "        "
   ]
  },
  {
   "cell_type": "code",
   "execution_count": 10,
   "id": "15b8f3e4-c13c-4e0c-af86-ebf28ad7219f",
   "metadata": {},
   "outputs": [
    {
     "name": "stdout",
     "output_type": "stream",
     "text": [
      "12.0\n"
     ]
    }
   ],
   "source": [
    "#teste\n",
    "x = array([1,2,3,4,5,6,7,8,9,10])\n",
    "y = array([2,4,6,8,10,12,14,16,18,20])\n",
    "\n",
    "linreg = LinearRegression(x,y)\n",
    "print(linreg.previsao(15))"
   ]
  }
 ],
 "metadata": {
  "kernelspec": {
   "display_name": "Python 3 (ipykernel)",
   "language": "python",
   "name": "python3"
  },
  "language_info": {
   "codemirror_mode": {
    "name": "ipython",
    "version": 3
   },
   "file_extension": ".py",
   "mimetype": "text/x-python",
   "name": "python",
   "nbconvert_exporter": "python",
   "pygments_lexer": "ipython3",
   "version": "3.13.5"
  }
 },
 "nbformat": 4,
 "nbformat_minor": 5
}
