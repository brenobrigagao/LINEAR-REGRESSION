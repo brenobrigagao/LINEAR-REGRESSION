{
 "cells": [
  {
   "cell_type": "code",
   "execution_count": null,
   "id": "3a56c3c2-de07-4ec6-9e5e-0f065dcffc55",
   "metadata": {},
   "outputs": [],
   "source": [
    "from numpy import *\n",
    "class LinearRegression:\n",
    "    def __init__(self,x,y):\n",
    "        self.x = x\n",
    "        self.y = y\n",
    "        self.__correlacao_coeficiente = self.__correlation()\n",
    "        self.__inclinacao = self.__inclination()\n",
    "        self.__interceptacao = self.__intercept()\n",
    "\n",
    "        def __correlation(self):\n",
    "            covariacao = cov(self.x,self.y,bias=True)[0][1]\n",
    "            variancia_x = var(self.x)\n",
    "            variancia_y = var(self.y)\n",
    "            return covariacao / sqrt(variancia_x*variancia_y)\n",
    "        "
   ]
  }
 ],
 "metadata": {
  "kernelspec": {
   "display_name": "Python 3 (ipykernel)",
   "language": "python",
   "name": "python3"
  },
  "language_info": {
   "codemirror_mode": {
    "name": "ipython",
    "version": 3
   },
   "file_extension": ".py",
   "mimetype": "text/x-python",
   "name": "python",
   "nbconvert_exporter": "python",
   "pygments_lexer": "ipython3",
   "version": "3.13.5"
  }
 },
 "nbformat": 4,
 "nbformat_minor": 5
}
